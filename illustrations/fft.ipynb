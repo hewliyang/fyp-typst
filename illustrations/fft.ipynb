{
 "cells": [
  {
   "cell_type": "code",
   "execution_count": null,
   "metadata": {},
   "outputs": [],
   "source": [
    "import librosa\n",
    "import numpy as np\n",
    "import IPython.display as IPY\n",
    "import matplotlib.pyplot as plt\n",
    "\n",
    "f_s = 16_000 # sampling rate\n",
    "N = 2 * f_s # 2 seconds of audio\n",
    "n = np.arange(N)\n",
    "f_0 = 300\n",
    "f_1 = 600\n",
    "x = np.sin(2*np.pi*(f_0/f_s)*n) + np.sin(2*np.pi*(f_1/f_s)*n)\n",
    "\n",
    "IPY.Audio(rate=f_s, data=x)"
   ]
  },
  {
   "cell_type": "code",
   "execution_count": null,
   "metadata": {},
   "outputs": [],
   "source": [
    "plt.plot(n[:250] / f_s, x[:250])\n",
    "plt.xlabel(\"Time (s)\")\n",
    "plt.ylabel(\"Amplitude\")\n",
    "plt.title(\"300Hz Sine Wave + 600Hz Sine Wave\")\n",
    "plt.tight_layout()\n",
    "plt.savefig(\"../assets/simple-wave.svg\", format=\"svg\", bbox_inches=\"tight\", pad_inches=0)"
   ]
  },
  {
   "cell_type": "code",
   "execution_count": null,
   "metadata": {},
   "outputs": [],
   "source": [
    "w = np.hamming(N) # hamming window, for a cleaner plot\n",
    "X = np.fft.fft(x*w) # DFT\n",
    "plt.plot(np.linspace(start=0, stop=f_s, num=N), np.abs(X))\n",
    "plt.xlabel(\"Frequency (Hz)\")\n",
    "plt.ylabel(\"Amplitude\")\n",
    "plt.title(\"FFT of the 300Hz+600Hz Sine Wave\")\n",
    "plt.xlim([0, 1000])\n",
    "plt.savefig(\"../assets/simple-wave-fft.svg\", format=\"svg\", bbox_inches=\"tight\", pad_inches=0)"
   ]
  }
 ],
 "metadata": {
  "kernelspec": {
   "display_name": "Python 3",
   "language": "python",
   "name": "python3"
  },
  "language_info": {
   "codemirror_mode": {
    "name": "ipython",
    "version": 3
   },
   "file_extension": ".py",
   "mimetype": "text/x-python",
   "name": "python",
   "nbconvert_exporter": "python",
   "pygments_lexer": "ipython3",
   "version": "3.11.9"
  }
 },
 "nbformat": 4,
 "nbformat_minor": 2
}
