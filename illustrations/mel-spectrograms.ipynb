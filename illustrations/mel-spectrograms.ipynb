{
 "cells": [
  {
   "cell_type": "code",
   "execution_count": null,
   "metadata": {},
   "outputs": [],
   "source": [
    "import librosa\n",
    "import matplotlib.pyplot as plt\n",
    "\n",
    "# Define parameters\n",
    "sr = 22050  # sample rate\n",
    "n_fft = 2048  # number of FFT components\n",
    "n_mels = 10  # number of Mel bands\n",
    "\n",
    "# Get the Mel filterbank\n",
    "mel_filters = librosa.filters.mel(sr=sr, n_fft=n_fft, n_mels=n_mels)\n",
    "\n",
    "# Plot the filters\n",
    "plt.figure(figsize=(10, 5))\n",
    "for i in range(n_mels):\n",
    "    plt.plot(mel_filters[i], label=f'Filter Band {i+1}')\n",
    "plt.title('Mel Filterbanks, n_mels = 10')\n",
    "plt.xlabel('Frequency Bin')\n",
    "plt.ylabel('Amplitude')\n",
    "plt.grid(True)\n",
    "plt.legend()\n",
    "plt.tight_layout()\n",
    "plt.savefig(\"../assets/mel-filter-banks.svg\", format=\"svg\", bbox_inches=\"tight\", pad_inches=0)\n",
    "plt.show()"
   ]
  },
  {
   "cell_type": "code",
   "execution_count": null,
   "metadata": {},
   "outputs": [],
   "source": [
    "import numpy as np\n",
    "\n",
    "# Load an example audio file\n",
    "y, sr = librosa.load(librosa.ex('trumpet'))\n",
    "\n",
    "# Compute the mel spectrogram\n",
    "S = librosa.feature.melspectrogram(y=y, sr=sr, n_mels=128)\n",
    "\n",
    "# Convert power spectrogram (amplitude squared) to decibel (log scale)\n",
    "S_dB = librosa.power_to_db(S, ref=np.max)\n",
    "\n",
    "# Plot the mel-filterbanks\n",
    "plt.figure(figsize=(10, 4))\n",
    "librosa.display.specshow(S_dB, sr=sr, x_axis='time', y_axis='mel', fmax=8000)\n",
    "plt.colorbar(format='%+2.0f dB')\n",
    "plt.title(\"Mel-frequency spectrogram of librosa.ex('trumpet')\")\n",
    "plt.tight_layout()\n",
    "plt.savefig(\"../assets/mel-spectrogram.svg\", format=\"svg\", bbox_inches=\"tight\", pad_inches=0)\n",
    "plt.show()"
   ]
  },
  {
   "cell_type": "code",
   "execution_count": null,
   "metadata": {},
   "outputs": [],
   "source": [
    "S_dB.shape"
   ]
  }
 ],
 "metadata": {
  "kernelspec": {
   "display_name": "Python 3",
   "language": "python",
   "name": "python3"
  },
  "language_info": {
   "codemirror_mode": {
    "name": "ipython",
    "version": 3
   },
   "file_extension": ".py",
   "mimetype": "text/x-python",
   "name": "python",
   "nbconvert_exporter": "python",
   "pygments_lexer": "ipython3",
   "version": "3.11.9"
  }
 },
 "nbformat": 4,
 "nbformat_minor": 2
}
