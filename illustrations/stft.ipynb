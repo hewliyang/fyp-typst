{
 "cells": [
  {
   "cell_type": "code",
   "execution_count": null,
   "metadata": {},
   "outputs": [],
   "source": [
    "import librosa\n",
    "import numpy as np\n",
    "import matplotlib.pyplot as plt\n",
    "\n",
    "x, f_s = librosa.load(librosa.ex(\"libri1\"), sr=16_000)\n",
    "stft = librosa.stft(x)\n",
    "stft = np.abs(stft)\n",
    "print(\"Sampling rate: \", f_s)\n",
    "print(\"Spectrogram shape: \", stft.shape)\n",
    "\n",
    "plt.figure(figsize=(10, 5))\n",
    "librosa.display.specshow(\n",
    "    librosa.amplitude_to_db(stft, ref=np.max),\n",
    "    y_axis=\"hz\",\n",
    "    x_axis=\"time\",\n",
    "    fmax=8000,\n",
    ")\n",
    "plt.xlabel(\"Time (s)\")\n",
    "plt.ylabel(\"Frequency (Hz)\")\n",
    "plt.title(\"STFT of librosa.ex('libri1')\")\n",
    "plt.colorbar(format=\"%+2.0f dB\")\n",
    "plt.tight_layout()\n",
    "plt.savefig(\n",
    "    \"../assets/linear-spectrogram.svg\", format=\"svg\", bbox_inches=\"tight\", pad_inches=0\n",
    ")"
   ]
  },
  {
   "cell_type": "code",
   "execution_count": null,
   "metadata": {},
   "outputs": [],
   "source": [
    "x, f_s = librosa.load(librosa.ex(\"trumpet\"), sr=16_000)\n",
    "stft = librosa.stft(x)\n",
    "stft = np.abs(stft)\n",
    "print(\"Sampling rate: \", f_s)\n",
    "print(\"Spectrogram shape: \", stft.shape)\n",
    "\n",
    "plt.figure(figsize=(10, 5))\n",
    "librosa.display.specshow(\n",
    "    librosa.amplitude_to_db(stft, ref=np.max),\n",
    "    y_axis=\"hz\",\n",
    "    x_axis=\"time\",\n",
    "    fmax=8000,\n",
    ")\n",
    "plt.xlabel(\"Time (s)\")\n",
    "plt.ylabel(\"Frequency (Hz)\")\n",
    "plt.title(\"STFT of librosa.ex('trumpet')\")\n",
    "plt.colorbar(format=\"%+2.0f dB\")\n",
    "plt.tight_layout()\n",
    "plt.savefig(\n",
    "    \"../assets/linear-spectrogram-trumpet.svg\", format=\"svg\", bbox_inches=\"tight\", pad_inches=0\n",
    ")"
   ]
  }
 ],
 "metadata": {
  "kernelspec": {
   "display_name": ".venv",
   "language": "python",
   "name": "python3"
  },
  "language_info": {
   "codemirror_mode": {
    "name": "ipython",
    "version": 3
   },
   "file_extension": ".py",
   "mimetype": "text/x-python",
   "name": "python",
   "nbconvert_exporter": "python",
   "pygments_lexer": "ipython3",
   "version": "3.11.9"
  }
 },
 "nbformat": 4,
 "nbformat_minor": 2
}
